{
 "cells": [
  {
   "cell_type": "code",
   "execution_count": 1,
   "id": "4789c569-e35f-4b63-a0a3-24fc97eae27e",
   "metadata": {},
   "outputs": [],
   "source": [
    "from sklearn.tree import DecisionTreeClassifier"
   ]
  },
  {
   "cell_type": "code",
   "execution_count": 2,
   "id": "974d1bfd-c595-4172-ad2b-e2b137e60f86",
   "metadata": {},
   "outputs": [],
   "source": [
    "features = [[150, 0],\n",
    "            [120, 0],\n",
    "            [70, 1],\n",
    "            [50, 1]]"
   ]
  },
  {
   "cell_type": "code",
   "execution_count": 3,
   "id": "81c5894a-7832-4152-ba9e-ab67186bb6ce",
   "metadata": {},
   "outputs": [],
   "source": [
    "labels = [\"apple\", \"apple\", \"orange\", \"orange\"]"
   ]
  },
  {
   "cell_type": "code",
   "execution_count": 5,
   "id": "5743863d-ef5e-4d94-bac5-5b265b3117ca",
   "metadata": {},
   "outputs": [],
   "source": [
    "clf = DecisionTreeClassifier()"
   ]
  },
  {
   "cell_type": "code",
   "execution_count": 6,
   "id": "53a36814-ee06-44ef-ad8b-12e105e3946b",
   "metadata": {},
   "outputs": [],
   "source": [
    "clf = clf.fit(features, labels)"
   ]
  },
  {
   "cell_type": "code",
   "execution_count": 11,
   "id": "684ccff0-e5e2-4daf-a0dd-00bbd55981d1",
   "metadata": {},
   "outputs": [
    {
     "data": {
      "text/plain": [
       "array(['orange'], dtype='<U6')"
      ]
     },
     "execution_count": 11,
     "metadata": {},
     "output_type": "execute_result"
    }
   ],
   "source": [
    "clf.predict([[20, 1]])"
   ]
  },
  {
   "cell_type": "code",
   "execution_count": null,
   "id": "b026e9e2-e135-4580-9a9d-88ad260b8838",
   "metadata": {},
   "outputs": [],
   "source": []
  }
 ],
 "metadata": {
  "kernelspec": {
   "display_name": "Python [conda env:base] *",
   "language": "python",
   "name": "conda-base-py"
  },
  "language_info": {
   "codemirror_mode": {
    "name": "ipython",
    "version": 3
   },
   "file_extension": ".py",
   "mimetype": "text/x-python",
   "name": "python",
   "nbconvert_exporter": "python",
   "pygments_lexer": "ipython3",
   "version": "3.12.7"
  }
 },
 "nbformat": 4,
 "nbformat_minor": 5
}
