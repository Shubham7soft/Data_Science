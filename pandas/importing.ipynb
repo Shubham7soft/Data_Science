{
 "cells": [
  {
   "cell_type": "code",
   "execution_count": 1,
   "id": "bf2102b8-fcef-4f27-9894-1b9b617a415f",
   "metadata": {},
   "outputs": [],
   "source": [
    "import pandas as pd"
   ]
  },
  {
   "cell_type": "code",
   "execution_count": 2,
   "id": "27b567c4-be95-4405-bb65-c044da0810af",
   "metadata": {},
   "outputs": [],
   "source": [
    "data = [['harry', 34], ['shubham', 40], ['hello', 45]]"
   ]
  },
  {
   "cell_type": "code",
   "execution_count": 3,
   "id": "6282cb49-b238-4384-9b91-40dd1abf7135",
   "metadata": {},
   "outputs": [
    {
     "data": {
      "text/plain": [
       "[['harry', 34], ['shubham', 40], ['hello', 45]]"
      ]
     },
     "execution_count": 3,
     "metadata": {},
     "output_type": "execute_result"
    }
   ],
   "source": [
    "data"
   ]
  },
  {
   "cell_type": "code",
   "execution_count": 4,
   "id": "5c7073d6-acc0-4af4-baf9-9552793a3620",
   "metadata": {},
   "outputs": [],
   "source": [
    "df = pd.DataFrame(data, columns=['name', 'marks'])"
   ]
  },
  {
   "cell_type": "code",
   "execution_count": 5,
   "id": "e9ca2b33-4305-4645-9f5e-c9ae4921556f",
   "metadata": {},
   "outputs": [
    {
     "data": {
      "text/html": [
       "<div>\n",
       "<style scoped>\n",
       "    .dataframe tbody tr th:only-of-type {\n",
       "        vertical-align: middle;\n",
       "    }\n",
       "\n",
       "    .dataframe tbody tr th {\n",
       "        vertical-align: top;\n",
       "    }\n",
       "\n",
       "    .dataframe thead th {\n",
       "        text-align: right;\n",
       "    }\n",
       "</style>\n",
       "<table border=\"1\" class=\"dataframe\">\n",
       "  <thead>\n",
       "    <tr style=\"text-align: right;\">\n",
       "      <th></th>\n",
       "      <th>name</th>\n",
       "      <th>marks</th>\n",
       "    </tr>\n",
       "  </thead>\n",
       "  <tbody>\n",
       "    <tr>\n",
       "      <th>0</th>\n",
       "      <td>harry</td>\n",
       "      <td>34</td>\n",
       "    </tr>\n",
       "    <tr>\n",
       "      <th>1</th>\n",
       "      <td>shubham</td>\n",
       "      <td>40</td>\n",
       "    </tr>\n",
       "    <tr>\n",
       "      <th>2</th>\n",
       "      <td>hello</td>\n",
       "      <td>45</td>\n",
       "    </tr>\n",
       "  </tbody>\n",
       "</table>\n",
       "</div>"
      ],
      "text/plain": [
       "      name  marks\n",
       "0    harry     34\n",
       "1  shubham     40\n",
       "2    hello     45"
      ]
     },
     "execution_count": 5,
     "metadata": {},
     "output_type": "execute_result"
    }
   ],
   "source": [
    "df"
   ]
  },
  {
   "cell_type": "code",
   "execution_count": 6,
   "id": "6f050917-415f-4b88-ae34-f5b28af49143",
   "metadata": {},
   "outputs": [],
   "source": [
    "import pandas as pd"
   ]
  },
  {
   "cell_type": "markdown",
   "id": "ae33b263-2847-4afd-8af5-85e2c32a2b7a",
   "metadata": {},
   "source": [
    "# Assistant\n",
    "This error occurs because Python cannot find the file \"actors.csv\" in your current working directory. The `pd.read_csv()` function is looking for this file, but it doesn't exist in the location where your code is running.\n",
    "\n",
    "Would you like me to provide the corrected code?"
   ]
  },
  {
   "cell_type": "code",
   "execution_count": 10,
   "id": "8f7fb722-cb83-4cb0-a74a-187b6585c6f2",
   "metadata": {},
   "outputs": [
    {
     "name": "stdout",
     "output_type": "stream",
     "text": [
      "Current working directory: /Users/shivamyadav/anaconda_projects/pandas\n"
     ]
    }
   ],
   "source": [
    "import os\n",
    "print(\"Current working directory:\", os.getcwd())"
   ]
  },
  {
   "cell_type": "code",
   "execution_count": 12,
   "id": "c4b6fac0-afc1-4ce0-ae1c-9ae47a7b24a4",
   "metadata": {},
   "outputs": [],
   "source": [
    "df = pd.read_csv(\"/Users/shivamyadav/Downloads/actors.csv\")"
   ]
  },
  {
   "cell_type": "code",
   "execution_count": 13,
   "id": "8224750b-62b5-4645-8f21-a5f38d4a123a",
   "metadata": {},
   "outputs": [
    {
     "data": {
      "text/html": [
       "<div>\n",
       "<style scoped>\n",
       "    .dataframe tbody tr th:only-of-type {\n",
       "        vertical-align: middle;\n",
       "    }\n",
       "\n",
       "    .dataframe tbody tr th {\n",
       "        vertical-align: top;\n",
       "    }\n",
       "\n",
       "    .dataframe thead th {\n",
       "        text-align: right;\n",
       "    }\n",
       "</style>\n",
       "<table border=\"1\" class=\"dataframe\">\n",
       "  <thead>\n",
       "    <tr style=\"text-align: right;\">\n",
       "      <th></th>\n",
       "      <th>Actor</th>\n",
       "      <th>Total Box Office (INR Cr)</th>\n",
       "      <th>Average IMDb Rating</th>\n",
       "      <th>Years Considered</th>\n",
       "      <th>Notable Movie</th>\n",
       "    </tr>\n",
       "  </thead>\n",
       "  <tbody>\n",
       "    <tr>\n",
       "      <th>0</th>\n",
       "      <td>Shah Rukh Khan</td>\n",
       "      <td>2200</td>\n",
       "      <td>7.8</td>\n",
       "      <td>2015-2025</td>\n",
       "      <td>Jawan</td>\n",
       "    </tr>\n",
       "    <tr>\n",
       "      <th>1</th>\n",
       "      <td>Salman Khan</td>\n",
       "      <td>2500</td>\n",
       "      <td>6.9</td>\n",
       "      <td>2015-2025</td>\n",
       "      <td>Tiger 3</td>\n",
       "    </tr>\n",
       "    <tr>\n",
       "      <th>2</th>\n",
       "      <td>Aamir Khan</td>\n",
       "      <td>1800</td>\n",
       "      <td>8.1</td>\n",
       "      <td>2015-2025</td>\n",
       "      <td>Laal Singh Chaddha</td>\n",
       "    </tr>\n",
       "    <tr>\n",
       "      <th>3</th>\n",
       "      <td>Akshay Kumar</td>\n",
       "      <td>2100</td>\n",
       "      <td>6.8</td>\n",
       "      <td>2015-2025</td>\n",
       "      <td>Sooryavanshi</td>\n",
       "    </tr>\n",
       "    <tr>\n",
       "      <th>4</th>\n",
       "      <td>Ranbir Kapoor</td>\n",
       "      <td>1500</td>\n",
       "      <td>7.3</td>\n",
       "      <td>2015-2025</td>\n",
       "      <td>Animal</td>\n",
       "    </tr>\n",
       "    <tr>\n",
       "      <th>5</th>\n",
       "      <td>Ranveer Singh</td>\n",
       "      <td>1600</td>\n",
       "      <td>7.4</td>\n",
       "      <td>2015-2025</td>\n",
       "      <td>Gully Boy</td>\n",
       "    </tr>\n",
       "    <tr>\n",
       "      <th>6</th>\n",
       "      <td>Hrithik Roshan</td>\n",
       "      <td>1700</td>\n",
       "      <td>7.5</td>\n",
       "      <td>2015-2025</td>\n",
       "      <td>War</td>\n",
       "    </tr>\n",
       "    <tr>\n",
       "      <th>7</th>\n",
       "      <td>Ajay Devgn</td>\n",
       "      <td>1900</td>\n",
       "      <td>6.9</td>\n",
       "      <td>2015-2025</td>\n",
       "      <td>Tanhaji</td>\n",
       "    </tr>\n",
       "    <tr>\n",
       "      <th>8</th>\n",
       "      <td>Varun Dhawan</td>\n",
       "      <td>1200</td>\n",
       "      <td>6.5</td>\n",
       "      <td>2015-2025</td>\n",
       "      <td>Bhediya</td>\n",
       "    </tr>\n",
       "    <tr>\n",
       "      <th>9</th>\n",
       "      <td>Tiger Shroff</td>\n",
       "      <td>1100</td>\n",
       "      <td>6.3</td>\n",
       "      <td>2015-2025</td>\n",
       "      <td>Baaghi 2</td>\n",
       "    </tr>\n",
       "  </tbody>\n",
       "</table>\n",
       "</div>"
      ],
      "text/plain": [
       "            Actor  Total Box Office (INR Cr)  Average IMDb Rating  \\\n",
       "0  Shah Rukh Khan                       2200                  7.8   \n",
       "1     Salman Khan                       2500                  6.9   \n",
       "2      Aamir Khan                       1800                  8.1   \n",
       "3    Akshay Kumar                       2100                  6.8   \n",
       "4   Ranbir Kapoor                       1500                  7.3   \n",
       "5   Ranveer Singh                       1600                  7.4   \n",
       "6  Hrithik Roshan                       1700                  7.5   \n",
       "7      Ajay Devgn                       1900                  6.9   \n",
       "8    Varun Dhawan                       1200                  6.5   \n",
       "9    Tiger Shroff                       1100                  6.3   \n",
       "\n",
       "  Years Considered       Notable Movie  \n",
       "0        2015-2025               Jawan  \n",
       "1        2015-2025             Tiger 3  \n",
       "2        2015-2025  Laal Singh Chaddha  \n",
       "3        2015-2025        Sooryavanshi  \n",
       "4        2015-2025              Animal  \n",
       "5        2015-2025           Gully Boy  \n",
       "6        2015-2025                 War  \n",
       "7        2015-2025             Tanhaji  \n",
       "8        2015-2025             Bhediya  \n",
       "9        2015-2025            Baaghi 2  "
      ]
     },
     "execution_count": 13,
     "metadata": {},
     "output_type": "execute_result"
    }
   ],
   "source": [
    "df"
   ]
  },
  {
   "cell_type": "code",
   "execution_count": 14,
   "id": "aff43011-e87f-4733-a402-f1eed0a490af",
   "metadata": {},
   "outputs": [
    {
     "data": {
      "text/html": [
       "<div>\n",
       "<style scoped>\n",
       "    .dataframe tbody tr th:only-of-type {\n",
       "        vertical-align: middle;\n",
       "    }\n",
       "\n",
       "    .dataframe tbody tr th {\n",
       "        vertical-align: top;\n",
       "    }\n",
       "\n",
       "    .dataframe thead th {\n",
       "        text-align: right;\n",
       "    }\n",
       "</style>\n",
       "<table border=\"1\" class=\"dataframe\">\n",
       "  <thead>\n",
       "    <tr style=\"text-align: right;\">\n",
       "      <th></th>\n",
       "      <th>Actor</th>\n",
       "      <th>Total Box Office (INR Cr)</th>\n",
       "      <th>Average IMDb Rating</th>\n",
       "      <th>Years Considered</th>\n",
       "      <th>Notable Movie</th>\n",
       "    </tr>\n",
       "  </thead>\n",
       "  <tbody>\n",
       "    <tr>\n",
       "      <th>0</th>\n",
       "      <td>Shah Rukh Khan</td>\n",
       "      <td>2200</td>\n",
       "      <td>7.8</td>\n",
       "      <td>2015-2025</td>\n",
       "      <td>Jawan</td>\n",
       "    </tr>\n",
       "    <tr>\n",
       "      <th>1</th>\n",
       "      <td>Salman Khan</td>\n",
       "      <td>2500</td>\n",
       "      <td>6.9</td>\n",
       "      <td>2015-2025</td>\n",
       "      <td>Tiger 3</td>\n",
       "    </tr>\n",
       "    <tr>\n",
       "      <th>2</th>\n",
       "      <td>Aamir Khan</td>\n",
       "      <td>1800</td>\n",
       "      <td>8.1</td>\n",
       "      <td>2015-2025</td>\n",
       "      <td>Laal Singh Chaddha</td>\n",
       "    </tr>\n",
       "    <tr>\n",
       "      <th>3</th>\n",
       "      <td>Akshay Kumar</td>\n",
       "      <td>2100</td>\n",
       "      <td>6.8</td>\n",
       "      <td>2015-2025</td>\n",
       "      <td>Sooryavanshi</td>\n",
       "    </tr>\n",
       "    <tr>\n",
       "      <th>4</th>\n",
       "      <td>Ranbir Kapoor</td>\n",
       "      <td>1500</td>\n",
       "      <td>7.3</td>\n",
       "      <td>2015-2025</td>\n",
       "      <td>Animal</td>\n",
       "    </tr>\n",
       "  </tbody>\n",
       "</table>\n",
       "</div>"
      ],
      "text/plain": [
       "            Actor  Total Box Office (INR Cr)  Average IMDb Rating  \\\n",
       "0  Shah Rukh Khan                       2200                  7.8   \n",
       "1     Salman Khan                       2500                  6.9   \n",
       "2      Aamir Khan                       1800                  8.1   \n",
       "3    Akshay Kumar                       2100                  6.8   \n",
       "4   Ranbir Kapoor                       1500                  7.3   \n",
       "\n",
       "  Years Considered       Notable Movie  \n",
       "0        2015-2025               Jawan  \n",
       "1        2015-2025             Tiger 3  \n",
       "2        2015-2025  Laal Singh Chaddha  \n",
       "3        2015-2025        Sooryavanshi  \n",
       "4        2015-2025              Animal  "
      ]
     },
     "execution_count": 14,
     "metadata": {},
     "output_type": "execute_result"
    }
   ],
   "source": [
    "df.head()"
   ]
  },
  {
   "cell_type": "code",
   "execution_count": 15,
   "id": "80dfd677-1c6b-462a-a78d-0234b2677303",
   "metadata": {},
   "outputs": [
    {
     "data": {
      "text/html": [
       "<div>\n",
       "<style scoped>\n",
       "    .dataframe tbody tr th:only-of-type {\n",
       "        vertical-align: middle;\n",
       "    }\n",
       "\n",
       "    .dataframe tbody tr th {\n",
       "        vertical-align: top;\n",
       "    }\n",
       "\n",
       "    .dataframe thead th {\n",
       "        text-align: right;\n",
       "    }\n",
       "</style>\n",
       "<table border=\"1\" class=\"dataframe\">\n",
       "  <thead>\n",
       "    <tr style=\"text-align: right;\">\n",
       "      <th></th>\n",
       "      <th>Actor</th>\n",
       "      <th>Total Box Office (INR Cr)</th>\n",
       "      <th>Average IMDb Rating</th>\n",
       "      <th>Years Considered</th>\n",
       "      <th>Notable Movie</th>\n",
       "    </tr>\n",
       "  </thead>\n",
       "  <tbody>\n",
       "    <tr>\n",
       "      <th>5</th>\n",
       "      <td>Ranveer Singh</td>\n",
       "      <td>1600</td>\n",
       "      <td>7.4</td>\n",
       "      <td>2015-2025</td>\n",
       "      <td>Gully Boy</td>\n",
       "    </tr>\n",
       "    <tr>\n",
       "      <th>6</th>\n",
       "      <td>Hrithik Roshan</td>\n",
       "      <td>1700</td>\n",
       "      <td>7.5</td>\n",
       "      <td>2015-2025</td>\n",
       "      <td>War</td>\n",
       "    </tr>\n",
       "    <tr>\n",
       "      <th>7</th>\n",
       "      <td>Ajay Devgn</td>\n",
       "      <td>1900</td>\n",
       "      <td>6.9</td>\n",
       "      <td>2015-2025</td>\n",
       "      <td>Tanhaji</td>\n",
       "    </tr>\n",
       "    <tr>\n",
       "      <th>8</th>\n",
       "      <td>Varun Dhawan</td>\n",
       "      <td>1200</td>\n",
       "      <td>6.5</td>\n",
       "      <td>2015-2025</td>\n",
       "      <td>Bhediya</td>\n",
       "    </tr>\n",
       "    <tr>\n",
       "      <th>9</th>\n",
       "      <td>Tiger Shroff</td>\n",
       "      <td>1100</td>\n",
       "      <td>6.3</td>\n",
       "      <td>2015-2025</td>\n",
       "      <td>Baaghi 2</td>\n",
       "    </tr>\n",
       "  </tbody>\n",
       "</table>\n",
       "</div>"
      ],
      "text/plain": [
       "            Actor  Total Box Office (INR Cr)  Average IMDb Rating  \\\n",
       "5   Ranveer Singh                       1600                  7.4   \n",
       "6  Hrithik Roshan                       1700                  7.5   \n",
       "7      Ajay Devgn                       1900                  6.9   \n",
       "8    Varun Dhawan                       1200                  6.5   \n",
       "9    Tiger Shroff                       1100                  6.3   \n",
       "\n",
       "  Years Considered Notable Movie  \n",
       "5        2015-2025     Gully Boy  \n",
       "6        2015-2025           War  \n",
       "7        2015-2025       Tanhaji  \n",
       "8        2015-2025       Bhediya  \n",
       "9        2015-2025      Baaghi 2  "
      ]
     },
     "execution_count": 15,
     "metadata": {},
     "output_type": "execute_result"
    }
   ],
   "source": [
    "df.tail()"
   ]
  },
  {
   "cell_type": "code",
   "execution_count": 18,
   "id": "90bb6d59-bc42-4148-af44-402a9245f4f5",
   "metadata": {},
   "outputs": [
    {
     "data": {
      "text/plain": [
       "Actor                        Shah Rukh Khan\n",
       "Total Box Office (INR Cr)              2200\n",
       "Average IMDb Rating                     7.8\n",
       "Years Considered                  2015-2025\n",
       "Notable Movie                         Jawan\n",
       "Name: 0, dtype: object"
      ]
     },
     "execution_count": 18,
     "metadata": {},
     "output_type": "execute_result"
    }
   ],
   "source": [
    "df.loc[0]"
   ]
  },
  {
   "cell_type": "code",
   "execution_count": 21,
   "id": "a838df28-2bef-4b46-b707-1e42176939c8",
   "metadata": {},
   "outputs": [
    {
     "data": {
      "text/plain": [
       "Actor                        Ajay Devgn\n",
       "Total Box Office (INR Cr)          1900\n",
       "Average IMDb Rating                 6.9\n",
       "Years Considered              2015-2025\n",
       "Notable Movie                   Tanhaji\n",
       "Name: 7, dtype: object"
      ]
     },
     "execution_count": 21,
     "metadata": {},
     "output_type": "execute_result"
    }
   ],
   "source": [
    "df.loc[7]"
   ]
  },
  {
   "cell_type": "code",
   "execution_count": 22,
   "id": "48721938-2e40-437f-8a32-45a1b607b542",
   "metadata": {},
   "outputs": [
    {
     "data": {
      "text/html": [
       "<div>\n",
       "<style scoped>\n",
       "    .dataframe tbody tr th:only-of-type {\n",
       "        vertical-align: middle;\n",
       "    }\n",
       "\n",
       "    .dataframe tbody tr th {\n",
       "        vertical-align: top;\n",
       "    }\n",
       "\n",
       "    .dataframe thead th {\n",
       "        text-align: right;\n",
       "    }\n",
       "</style>\n",
       "<table border=\"1\" class=\"dataframe\">\n",
       "  <thead>\n",
       "    <tr style=\"text-align: right;\">\n",
       "      <th></th>\n",
       "      <th>Actor</th>\n",
       "      <th>Total Box Office (INR Cr)</th>\n",
       "      <th>Average IMDb Rating</th>\n",
       "      <th>Years Considered</th>\n",
       "      <th>Notable Movie</th>\n",
       "    </tr>\n",
       "  </thead>\n",
       "  <tbody>\n",
       "    <tr>\n",
       "      <th>0</th>\n",
       "      <td>Shah Rukh Khan</td>\n",
       "      <td>2200</td>\n",
       "      <td>7.8</td>\n",
       "      <td>2015-2025</td>\n",
       "      <td>Jawan</td>\n",
       "    </tr>\n",
       "    <tr>\n",
       "      <th>1</th>\n",
       "      <td>Salman Khan</td>\n",
       "      <td>2500</td>\n",
       "      <td>6.9</td>\n",
       "      <td>2015-2025</td>\n",
       "      <td>Tiger 3</td>\n",
       "    </tr>\n",
       "    <tr>\n",
       "      <th>2</th>\n",
       "      <td>Aamir Khan</td>\n",
       "      <td>1800</td>\n",
       "      <td>8.1</td>\n",
       "      <td>2015-2025</td>\n",
       "      <td>Laal Singh Chaddha</td>\n",
       "    </tr>\n",
       "    <tr>\n",
       "      <th>3</th>\n",
       "      <td>Akshay Kumar</td>\n",
       "      <td>2100</td>\n",
       "      <td>6.8</td>\n",
       "      <td>2015-2025</td>\n",
       "      <td>Sooryavanshi</td>\n",
       "    </tr>\n",
       "    <tr>\n",
       "      <th>4</th>\n",
       "      <td>Ranbir Kapoor</td>\n",
       "      <td>1500</td>\n",
       "      <td>7.3</td>\n",
       "      <td>2015-2025</td>\n",
       "      <td>Animal</td>\n",
       "    </tr>\n",
       "  </tbody>\n",
       "</table>\n",
       "</div>"
      ],
      "text/plain": [
       "            Actor  Total Box Office (INR Cr)  Average IMDb Rating  \\\n",
       "0  Shah Rukh Khan                       2200                  7.8   \n",
       "1     Salman Khan                       2500                  6.9   \n",
       "2      Aamir Khan                       1800                  8.1   \n",
       "3    Akshay Kumar                       2100                  6.8   \n",
       "4   Ranbir Kapoor                       1500                  7.3   \n",
       "\n",
       "  Years Considered       Notable Movie  \n",
       "0        2015-2025               Jawan  \n",
       "1        2015-2025             Tiger 3  \n",
       "2        2015-2025  Laal Singh Chaddha  \n",
       "3        2015-2025        Sooryavanshi  \n",
       "4        2015-2025              Animal  "
      ]
     },
     "execution_count": 22,
     "metadata": {},
     "output_type": "execute_result"
    }
   ],
   "source": [
    "df.loc[0:4]"
   ]
  },
  {
   "cell_type": "code",
   "execution_count": 24,
   "id": "bd1e3a6c-0cdd-42e2-b3b7-bd1e250132c9",
   "metadata": {},
   "outputs": [
    {
     "data": {
      "text/html": [
       "<div>\n",
       "<style scoped>\n",
       "    .dataframe tbody tr th:only-of-type {\n",
       "        vertical-align: middle;\n",
       "    }\n",
       "\n",
       "    .dataframe tbody tr th {\n",
       "        vertical-align: top;\n",
       "    }\n",
       "\n",
       "    .dataframe thead th {\n",
       "        text-align: right;\n",
       "    }\n",
       "</style>\n",
       "<table border=\"1\" class=\"dataframe\">\n",
       "  <thead>\n",
       "    <tr style=\"text-align: right;\">\n",
       "      <th></th>\n",
       "      <th>Actor</th>\n",
       "      <th>Notable Movie</th>\n",
       "    </tr>\n",
       "  </thead>\n",
       "  <tbody>\n",
       "    <tr>\n",
       "      <th>0</th>\n",
       "      <td>Shah Rukh Khan</td>\n",
       "      <td>Jawan</td>\n",
       "    </tr>\n",
       "    <tr>\n",
       "      <th>1</th>\n",
       "      <td>Salman Khan</td>\n",
       "      <td>Tiger 3</td>\n",
       "    </tr>\n",
       "    <tr>\n",
       "      <th>2</th>\n",
       "      <td>Aamir Khan</td>\n",
       "      <td>Laal Singh Chaddha</td>\n",
       "    </tr>\n",
       "    <tr>\n",
       "      <th>3</th>\n",
       "      <td>Akshay Kumar</td>\n",
       "      <td>Sooryavanshi</td>\n",
       "    </tr>\n",
       "    <tr>\n",
       "      <th>4</th>\n",
       "      <td>Ranbir Kapoor</td>\n",
       "      <td>Animal</td>\n",
       "    </tr>\n",
       "  </tbody>\n",
       "</table>\n",
       "</div>"
      ],
      "text/plain": [
       "            Actor       Notable Movie\n",
       "0  Shah Rukh Khan               Jawan\n",
       "1     Salman Khan             Tiger 3\n",
       "2      Aamir Khan  Laal Singh Chaddha\n",
       "3    Akshay Kumar        Sooryavanshi\n",
       "4   Ranbir Kapoor              Animal"
      ]
     },
     "execution_count": 24,
     "metadata": {},
     "output_type": "execute_result"
    }
   ],
   "source": [
    "df.loc[0:4, ('Actor', 'Notable Movie')]"
   ]
  },
  {
   "cell_type": "code",
   "execution_count": 28,
   "id": "2db1de80-1b8f-4e0b-b64c-4bef2f761d03",
   "metadata": {},
   "outputs": [
    {
     "data": {
      "text/plain": [
       "'Salman Khan'"
      ]
     },
     "execution_count": 28,
     "metadata": {},
     "output_type": "execute_result"
    }
   ],
   "source": [
    "df.at[1, \"Actor\"] "
   ]
  },
  {
   "cell_type": "code",
   "execution_count": 30,
   "id": "fac02ec2-4f67-44e5-9a9e-e4bd5704a949",
   "metadata": {},
   "outputs": [
    {
     "data": {
      "text/plain": [
       "'Laal Singh Chaddha'"
      ]
     },
     "execution_count": 30,
     "metadata": {},
     "output_type": "execute_result"
    }
   ],
   "source": [
    "df.iat[2, 4]"
   ]
  },
  {
   "cell_type": "code",
   "execution_count": null,
   "id": "30d1a69f-7781-4a30-87b5-a843cb96c7ed",
   "metadata": {},
   "outputs": [],
   "source": []
  }
 ],
 "metadata": {
  "kernelspec": {
   "display_name": "Python [conda env:base] *",
   "language": "python",
   "name": "conda-base-py"
  },
  "language_info": {
   "codemirror_mode": {
    "name": "ipython",
    "version": 3
   },
   "file_extension": ".py",
   "mimetype": "text/x-python",
   "name": "python",
   "nbconvert_exporter": "python",
   "pygments_lexer": "ipython3",
   "version": "3.12.7"
  }
 },
 "nbformat": 4,
 "nbformat_minor": 5
}
