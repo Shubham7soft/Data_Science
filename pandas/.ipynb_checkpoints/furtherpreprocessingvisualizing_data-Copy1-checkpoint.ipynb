{
 "cells": [
  {
   "cell_type": "code",
   "execution_count": 29,
   "id": "f0c09286-4166-4261-8f0b-628b0e0ff832",
   "metadata": {},
   "outputs": [],
   "source": [
    "import pandas as pd\n",
    "import numpy as np"
   ]
  },
  {
   "cell_type": "code",
   "execution_count": 30,
   "id": "22448081-d4f1-4e09-84c9-b76c56f5f47e",
   "metadata": {},
   "outputs": [],
   "source": [
    "df = pd.read_csv(\"/Users/shivamyadav/Downloads/housing.csv\")"
   ]
  },
  {
   "cell_type": "code",
   "execution_count": 31,
   "id": "b038800b-4cd5-4f7e-8b92-726fe96c4bc7",
   "metadata": {},
   "outputs": [],
   "source": [
    "df['income_cat'] = pd.cut(df['median_income'], bins=[0, 1.5, 3.0, 4.5, 6.0, np.inf], labels=[1, 2, 3, 4, 5])"
   ]
  },
  {
   "cell_type": "code",
   "execution_count": 32,
   "id": "64893b20-8fa6-47be-8ca5-8504d27b147d",
   "metadata": {},
   "outputs": [],
   "source": [
    "from sklearn.model_selection import StratifiedShuffleSplit\n",
    "\n",
    "# Assume income_cat is a column in the dataset created from median_income\n",
    "split = StratifiedShuffleSplit(n_splits=1, test_size=0.2, random_state=42)\n",
    "\n",
    "for train_index, test_index in split.split(df, df[\"income_cat\"]):\n",
    "    strat_train_set = df.loc[train_index]\n",
    "    strat_test_set = df.loc[test_index]"
   ]
  },
  {
   "cell_type": "code",
   "execution_count": 33,
   "id": "e4de25b6-45bb-4d2d-8ede-e9654d3cc04b",
   "metadata": {},
   "outputs": [],
   "source": [
    "#lets remove the income_cat column \n",
    "for sett in(strat_train_set, strat_test_set):\n",
    "    sett.drop('income_cat', axis=1, inplace=True)  # Changed axis=0 to axis=1 because we're dropping a column, not a row"
   ]
  },
  {
   "cell_type": "code",
   "execution_count": 35,
   "id": "3e9ba9e6-902b-4111-a57c-4ac0e50625e0",
   "metadata": {},
   "outputs": [],
   "source": [
    "df = strat_train_set.copy()"
   ]
  },
  {
   "cell_type": "code",
   "execution_count": null,
   "id": "b9183484-a9bf-4df4-a425-fe2de8e61a15",
   "metadata": {},
   "outputs": [],
   "source": []
  }
 ],
 "metadata": {
  "kernelspec": {
   "display_name": "Python [conda env:base] *",
   "language": "python",
   "name": "conda-base-py"
  },
  "language_info": {
   "codemirror_mode": {
    "name": "ipython",
    "version": 3
   },
   "file_extension": ".py",
   "mimetype": "text/x-python",
   "name": "python",
   "nbconvert_exporter": "python",
   "pygments_lexer": "ipython3",
   "version": "3.12.7"
  }
 },
 "nbformat": 4,
 "nbformat_minor": 5
}
