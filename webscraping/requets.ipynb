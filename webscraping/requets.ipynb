{
 "cells": [
  {
   "cell_type": "code",
   "execution_count": 1,
   "id": "b4e34dfd-352a-42b3-9722-0cfc659d2917",
   "metadata": {},
   "outputs": [],
   "source": [
    "import requests"
   ]
  },
  {
   "cell_type": "code",
   "execution_count": 2,
   "id": "29c2de4d-d73c-49b5-834c-6f0b6736b5b2",
   "metadata": {},
   "outputs": [],
   "source": [
    "a = requests.get(\"https://books.toscrape.com/\")"
   ]
  },
  {
   "cell_type": "code",
   "execution_count": 4,
   "id": "1587e781-3590-4097-b279-26c475adfe2a",
   "metadata": {},
   "outputs": [],
   "source": [
    "with open(f\"htmls/page1.html\", \"w\") as f:\n",
    "    f.write(a.text)"
   ]
  },
  {
   "cell_type": "code",
   "execution_count": 5,
   "id": "91b290ac-4707-4b25-9b4e-5ef9dd81a3f2",
   "metadata": {},
   "outputs": [
    {
     "name": "stdout",
     "output_type": "stream",
     "text": [
      "Downloaded page1successfully\n",
      "Downloaded page2successfully\n",
      "Downloaded page3successfully\n",
      "Downloaded page4successfully\n",
      "Downloaded page5successfully\n",
      "Downloaded page6successfully\n",
      "Downloaded page7successfully\n",
      "Downloaded page8successfully\n",
      "Downloaded page9successfully\n",
      "Downloaded page10successfully\n",
      "Downloaded page11successfully\n",
      "Downloaded page12successfully\n",
      "Downloaded page13successfully\n",
      "Downloaded page14successfully\n",
      "Downloaded page15successfully\n",
      "Downloaded page16successfully\n",
      "Downloaded page17successfully\n",
      "Downloaded page18successfully\n",
      "Downloaded page19successfully\n",
      "Downloaded page20successfully\n",
      "Downloaded page21successfully\n",
      "Downloaded page22successfully\n",
      "Downloaded page23successfully\n",
      "Downloaded page24successfully\n",
      "Downloaded page25successfully\n",
      "Downloaded page26successfully\n",
      "Downloaded page27successfully\n",
      "Downloaded page28successfully\n",
      "Downloaded page29successfully\n",
      "Downloaded page30successfully\n",
      "Downloaded page31successfully\n",
      "Downloaded page32successfully\n",
      "Downloaded page33successfully\n",
      "Downloaded page34successfully\n",
      "Downloaded page35successfully\n",
      "Downloaded page36successfully\n",
      "Downloaded page37successfully\n",
      "Downloaded page38successfully\n",
      "Downloaded page39successfully\n",
      "Downloaded page40successfully\n",
      "Downloaded page41successfully\n",
      "Downloaded page42successfully\n",
      "Downloaded page43successfully\n",
      "Downloaded page44successfully\n",
      "Downloaded page45successfully\n",
      "Downloaded page46successfully\n",
      "Downloaded page47successfully\n",
      "Downloaded page48successfully\n",
      "Downloaded page49successfully\n",
      "Downloaded page50successfully\n"
     ]
    }
   ],
   "source": [
    "for i in range(1, 51):\n",
    "    a = requests.get(f\"https://books.toscope.com/catalogue/page-{i}.html\")\n",
    "    with open(f\"htmls/page{i}.html\", \"w\", encoding = \"utf-8\") as f:\n",
    "        f.write(a.text)\n",
    "        print(f\"Downloaded page {i} successfully\")"
   ]
  },
  {
   "cell_type": "code",
   "execution_count": null,
   "id": "283b5745-1779-4af7-b5f2-d14cad5f2114",
   "metadata": {},
   "outputs": [],
   "source": []
  }
 ],
 "metadata": {
  "kernelspec": {
   "display_name": "Python [conda env:base] *",
   "language": "python",
   "name": "conda-base-py"
  },
  "language_info": {
   "codemirror_mode": {
    "name": "ipython",
    "version": 3
   },
   "file_extension": ".py",
   "mimetype": "text/x-python",
   "name": "python",
   "nbconvert_exporter": "python",
   "pygments_lexer": "ipython3",
   "version": "3.12.7"
  }
 },
 "nbformat": 4,
 "nbformat_minor": 5
}
