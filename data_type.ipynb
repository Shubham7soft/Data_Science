{
 "cells": [
  {
   "cell_type": "code",
   "execution_count": 1,
   "id": "958daeee-e3f0-4d50-ac0e-2586b88f3ad9",
   "metadata": {},
   "outputs": [],
   "source": [
    "import numpy as np"
   ]
  },
  {
   "cell_type": "code",
   "execution_count": 4,
   "id": "7fbb14d8-e9ac-4313-99b6-660511139559",
   "metadata": {},
   "outputs": [],
   "source": [
    "arr = np.array([1, 2, 3, 4, 5])\n"
   ]
  },
  {
   "cell_type": "code",
   "execution_count": 5,
   "id": "400dd86a-f000-48bd-b049-62b91de835b1",
   "metadata": {},
   "outputs": [
    {
     "data": {
      "text/plain": [
       "array([1, 2, 3, 4, 5])"
      ]
     },
     "execution_count": 5,
     "metadata": {},
     "output_type": "execute_result"
    }
   ],
   "source": [
    "arr"
   ]
  },
  {
   "cell_type": "code",
   "execution_count": 6,
   "id": "0931adcf-3a5f-44d7-98d6-acb5bee1983e",
   "metadata": {},
   "outputs": [
    {
     "data": {
      "text/plain": [
       "dtype('int64')"
      ]
     },
     "execution_count": 6,
     "metadata": {},
     "output_type": "execute_result"
    }
   ],
   "source": [
    "arr.dtype"
   ]
  },
  {
   "cell_type": "code",
   "execution_count": 7,
   "id": "d2355594-cf92-4afb-b679-725c81d66597",
   "metadata": {},
   "outputs": [
    {
     "data": {
      "text/plain": [
       "array([1., 2., 3., 4., 5.])"
      ]
     },
     "execution_count": 7,
     "metadata": {},
     "output_type": "execute_result"
    }
   ],
   "source": [
    "arr.astype(\"float64\")"
   ]
  },
  {
   "cell_type": "code",
   "execution_count": 8,
   "id": "17838073-c38f-4918-a66b-fae38b492d37",
   "metadata": {},
   "outputs": [
    {
     "data": {
      "text/plain": [
       "dtype('int64')"
      ]
     },
     "execution_count": 8,
     "metadata": {},
     "output_type": "execute_result"
    }
   ],
   "source": [
    "arr.dtype"
   ]
  },
  {
   "cell_type": "code",
   "execution_count": 9,
   "id": "6bfc37f2-2ad1-4ce9-9317-0caa26b0c47c",
   "metadata": {},
   "outputs": [],
   "source": [
    "arrr = np.array([1 + 2j, 3 + 4j, 5 + 6j])"
   ]
  },
  {
   "cell_type": "code",
   "execution_count": 10,
   "id": "eac4c398-9525-43a2-953e-2d64349c6982",
   "metadata": {},
   "outputs": [
    {
     "data": {
      "text/plain": [
       "array([1.+2.j, 3.+4.j, 5.+6.j])"
      ]
     },
     "execution_count": 10,
     "metadata": {},
     "output_type": "execute_result"
    }
   ],
   "source": [
    "arrr"
   ]
  },
  {
   "cell_type": "code",
   "execution_count": 11,
   "id": "a6a3cc7e-5428-4072-b201-d6d0a95b4854",
   "metadata": {},
   "outputs": [],
   "source": [
    "arrr = np.array([1 + 2j, 3 + 4j, 5 + 6j], dtype = 'complex128')"
   ]
  },
  {
   "cell_type": "code",
   "execution_count": 12,
   "id": "c17e519c-4070-4e87-9ccf-8158fb11b70b",
   "metadata": {},
   "outputs": [
    {
     "data": {
      "text/plain": [
       "array([1.+2.j, 3.+4.j, 5.+6.j])"
      ]
     },
     "execution_count": 12,
     "metadata": {},
     "output_type": "execute_result"
    }
   ],
   "source": [
    "arrr"
   ]
  },
  {
   "cell_type": "code",
   "execution_count": 13,
   "id": "0cbc1367-da89-4c68-90bd-727fe1c6c084",
   "metadata": {},
   "outputs": [
    {
     "name": "stdout",
     "output_type": "stream",
     "text": [
      "[1.+2.j 3.+4.j 5.+6.j]\n"
     ]
    }
   ],
   "source": [
    "arrr = np.array([1 + 2j, 3 + 4j, 5 + 6j], dtype = 'complex128')\n",
    "print(arrr)"
   ]
  },
  {
   "cell_type": "code",
   "execution_count": null,
   "id": "acaa54b9-78ad-4bc6-b8dd-8fc379654962",
   "metadata": {},
   "outputs": [],
   "source": []
  }
 ],
 "metadata": {
  "kernelspec": {
   "display_name": "Python [conda env:base] *",
   "language": "python",
   "name": "conda-base-py"
  },
  "language_info": {
   "codemirror_mode": {
    "name": "ipython",
    "version": 3
   },
   "file_extension": ".py",
   "mimetype": "text/x-python",
   "name": "python",
   "nbconvert_exporter": "python",
   "pygments_lexer": "ipython3",
   "version": "3.12.7"
  }
 },
 "nbformat": 4,
 "nbformat_minor": 5
}
